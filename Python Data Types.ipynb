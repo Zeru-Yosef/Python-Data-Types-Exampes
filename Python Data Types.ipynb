{
 "cells": [
  {
   "cell_type": "code",
   "execution_count": 3,
   "metadata": {},
   "outputs": [
    {
     "name": "stdout",
     "output_type": "stream",
     "text": [
      "8\n"
     ]
    }
   ],
   "source": [
    "#Declare and print Integers\n",
    "a=8\n",
    "print(a)"
   ]
  },
  {
   "cell_type": "code",
   "execution_count": 4,
   "metadata": {},
   "outputs": [
    {
     "name": "stdout",
     "output_type": "stream",
     "text": [
      "<class 'int'>\n"
     ]
    }
   ],
   "source": [
    "#To know What type of Data is a\n",
    "print(type(a))"
   ]
  },
  {
   "cell_type": "code",
   "execution_count": 5,
   "metadata": {},
   "outputs": [
    {
     "name": "stdout",
     "output_type": "stream",
     "text": [
      "8.0\n"
     ]
    }
   ],
   "source": [
    "# TO Change a from integer to float\n",
    "print(float(a))"
   ]
  },
  {
   "cell_type": "code",
   "execution_count": 31,
   "metadata": {},
   "outputs": [
    {
     "name": "stdout",
     "output_type": "stream",
     "text": [
      "5.0\n",
      "9.0\n",
      "<class 'complex'>\n",
      "(5+9j)\n"
     ]
    }
   ],
   "source": [
    "#Complex Numbers\n",
    "#Declare Variables\n",
    "x = 5\n",
    "y = 9\n",
    "#Syntax for Complex Numbers\n",
    "B = complex(x, y)\n",
    "#Print Real and Imagionary Numbers\n",
    "print(B.real)\n",
    "print(B.imag)\n",
    "#Print the Data Type Complex\n",
    "print(type(B))\n",
    "#Convert to String\n",
    "print(str(B))"
   ]
  },
  {
   "cell_type": "code",
   "execution_count": 41,
   "metadata": {
    "scrolled": true
   },
   "outputs": [
    {
     "name": "stdout",
     "output_type": "stream",
     "text": [
      "{'Continet': 'Africa', 'Country': 'Ethiopia'}\n",
      "{'Africa': 'Sierra Leone', 'Asia': 'China', 'Middle East': 'Israel'}\n",
      "<class 'dict'>\n"
     ]
    }
   ],
   "source": [
    "#Creating of a dictionary which contains Continent_Name and Country Name\n",
    "Cont_Country = {\"Continet\" : \"Africa\", \"Country\" : \"Ethiopia\"}\n",
    "print(Cont_Country)\n",
    "Cont_Country = {\"Africa\" : \"Ethiopia\", \"Asia\" : \"China\", \"Africa\" : \"Angola\", \"Africa\" : \"Sierra Leone\", \"Middle East\" : \"Israel\"}\n",
    "print(Cont_Country)\n",
    "print(type(Cont_Country))"
   ]
  },
  {
   "cell_type": "code",
   "execution_count": 50,
   "metadata": {},
   "outputs": [
    {
     "name": "stdout",
     "output_type": "stream",
     "text": [
      "{'Continet': ['Africa', 'Asia', 'Latin Amrtica', 'North America'], 'Country': ['Senegal', 'Singapore', 'Chili', 'Canada']}\n"
     ]
    }
   ],
   "source": [
    "Cont_Country1 = {\"Continet\" : [\"Africa\", \"Asia\", \"Latin Amrtica\", \"North America\"], \"Country\" : [\"Senegal\", \"Singapore\", \"Chili\", \"Canada\"]}\n",
    "print(Cont_Country1)"
   ]
  },
  {
   "cell_type": "code",
   "execution_count": null,
   "metadata": {},
   "outputs": [],
   "source": []
  }
 ],
 "metadata": {
  "kernelspec": {
   "display_name": "Python 3",
   "language": "python",
   "name": "python3"
  },
  "language_info": {
   "codemirror_mode": {
    "name": "ipython",
    "version": 3
   },
   "file_extension": ".py",
   "mimetype": "text/x-python",
   "name": "python",
   "nbconvert_exporter": "python",
   "pygments_lexer": "ipython3",
   "version": "3.8.5"
  }
 },
 "nbformat": 4,
 "nbformat_minor": 4
}
